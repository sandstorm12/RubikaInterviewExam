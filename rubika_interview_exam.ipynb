{
  "nbformat": 4,
  "nbformat_minor": 0,
  "metadata": {
    "colab": {
      "name": "rubika_interview_exam.ipynb",
      "provenance": [],
      "collapsed_sections": [],
      "authorship_tag": "ABX9TyMi+dX1yAOj5qm+Zw0uRsIk",
      "include_colab_link": true
    },
    "kernelspec": {
      "name": "python3",
      "display_name": "Python 3"
    },
    "language_info": {
      "name": "python"
    },
    "accelerator": "GPU"
  },
  "cells": [
    {
      "cell_type": "markdown",
      "metadata": {
        "id": "view-in-github",
        "colab_type": "text"
      },
      "source": [
        "<a href=\"https://colab.research.google.com/github/sandstorm12/RubikaInterviewExam/blob/dev/rubika_interview_exam.ipynb\" target=\"_parent\"><img src=\"https://colab.research.google.com/assets/colab-badge.svg\" alt=\"Open In Colab\"/></a>"
      ]
    },
    {
      "cell_type": "markdown",
      "metadata": {
        "id": "3KOdanAeJWOq"
      },
      "source": [
        "1. Try oversampling using augmentation"
      ]
    },
    {
      "cell_type": "code",
      "metadata": {
        "colab": {
          "base_uri": "https://localhost:8080/"
        },
        "id": "w66d5_H4FghN",
        "outputId": "856f64af-01f1-4a69-8205-af082f0c5ffb"
      },
      "source": [
        "#@title System check { form-width: \"20%\" }\n",
        "\n",
        "!nvidia-smi"
      ],
      "execution_count": 16,
      "outputs": [
        {
          "output_type": "stream",
          "name": "stdout",
          "text": [
            "Tue Sep 14 11:34:40 2021       \n",
            "+-----------------------------------------------------------------------------+\n",
            "| NVIDIA-SMI 470.63.01    Driver Version: 460.32.03    CUDA Version: 11.2     |\n",
            "|-------------------------------+----------------------+----------------------+\n",
            "| GPU  Name        Persistence-M| Bus-Id        Disp.A | Volatile Uncorr. ECC |\n",
            "| Fan  Temp  Perf  Pwr:Usage/Cap|         Memory-Usage | GPU-Util  Compute M. |\n",
            "|                               |                      |               MIG M. |\n",
            "|===============================+======================+======================|\n",
            "|   0  Tesla K80           Off  | 00000000:00:04.0 Off |                    0 |\n",
            "| N/A   43C    P0    58W / 149W |   5422MiB / 11441MiB |      0%      Default |\n",
            "|                               |                      |                  N/A |\n",
            "+-------------------------------+----------------------+----------------------+\n",
            "                                                                               \n",
            "+-----------------------------------------------------------------------------+\n",
            "| Processes:                                                                  |\n",
            "|  GPU   GI   CI        PID   Type   Process name                  GPU Memory |\n",
            "|        ID   ID                                                   Usage      |\n",
            "|=============================================================================|\n",
            "|  No running processes found                                                 |\n",
            "+-----------------------------------------------------------------------------+\n"
          ]
        }
      ]
    },
    {
      "cell_type": "code",
      "metadata": {
        "colab": {
          "base_uri": "https://localhost:8080/"
        },
        "id": "8Jr6vXRgKQ8S",
        "outputId": "405ea074-deec-4f94-cd70-4db6a4f6bc6f"
      },
      "source": [
        "#@title Installation { form-width: \"20%\" }\n",
        "\n",
        "!pip3 install focal-loss"
      ],
      "execution_count": 1,
      "outputs": [
        {
          "output_type": "stream",
          "name": "stdout",
          "text": [
            "Collecting focal-loss\n",
            "  Downloading focal_loss-0.0.7-py3-none-any.whl (19 kB)\n",
            "Requirement already satisfied: tensorflow>=2.2 in /usr/local/lib/python3.7/dist-packages (from focal-loss) (2.6.0)\n",
            "Requirement already satisfied: wrapt~=1.12.1 in /usr/local/lib/python3.7/dist-packages (from tensorflow>=2.2->focal-loss) (1.12.1)\n",
            "Requirement already satisfied: astunparse~=1.6.3 in /usr/local/lib/python3.7/dist-packages (from tensorflow>=2.2->focal-loss) (1.6.3)\n",
            "Requirement already satisfied: gast==0.4.0 in /usr/local/lib/python3.7/dist-packages (from tensorflow>=2.2->focal-loss) (0.4.0)\n",
            "Requirement already satisfied: typing-extensions~=3.7.4 in /usr/local/lib/python3.7/dist-packages (from tensorflow>=2.2->focal-loss) (3.7.4.3)\n",
            "Requirement already satisfied: google-pasta~=0.2 in /usr/local/lib/python3.7/dist-packages (from tensorflow>=2.2->focal-loss) (0.2.0)\n",
            "Requirement already satisfied: keras-preprocessing~=1.1.2 in /usr/local/lib/python3.7/dist-packages (from tensorflow>=2.2->focal-loss) (1.1.2)\n",
            "Requirement already satisfied: opt-einsum~=3.3.0 in /usr/local/lib/python3.7/dist-packages (from tensorflow>=2.2->focal-loss) (3.3.0)\n",
            "Requirement already satisfied: six~=1.15.0 in /usr/local/lib/python3.7/dist-packages (from tensorflow>=2.2->focal-loss) (1.15.0)\n",
            "Requirement already satisfied: tensorflow-estimator~=2.6 in /usr/local/lib/python3.7/dist-packages (from tensorflow>=2.2->focal-loss) (2.6.0)\n",
            "Requirement already satisfied: wheel~=0.35 in /usr/local/lib/python3.7/dist-packages (from tensorflow>=2.2->focal-loss) (0.37.0)\n",
            "Requirement already satisfied: clang~=5.0 in /usr/local/lib/python3.7/dist-packages (from tensorflow>=2.2->focal-loss) (5.0)\n",
            "Requirement already satisfied: grpcio<2.0,>=1.37.0 in /usr/local/lib/python3.7/dist-packages (from tensorflow>=2.2->focal-loss) (1.39.0)\n",
            "Requirement already satisfied: h5py~=3.1.0 in /usr/local/lib/python3.7/dist-packages (from tensorflow>=2.2->focal-loss) (3.1.0)\n",
            "Requirement already satisfied: keras~=2.6 in /usr/local/lib/python3.7/dist-packages (from tensorflow>=2.2->focal-loss) (2.6.0)\n",
            "Requirement already satisfied: absl-py~=0.10 in /usr/local/lib/python3.7/dist-packages (from tensorflow>=2.2->focal-loss) (0.12.0)\n",
            "Requirement already satisfied: termcolor~=1.1.0 in /usr/local/lib/python3.7/dist-packages (from tensorflow>=2.2->focal-loss) (1.1.0)\n",
            "Requirement already satisfied: protobuf>=3.9.2 in /usr/local/lib/python3.7/dist-packages (from tensorflow>=2.2->focal-loss) (3.17.3)\n",
            "Requirement already satisfied: numpy~=1.19.2 in /usr/local/lib/python3.7/dist-packages (from tensorflow>=2.2->focal-loss) (1.19.5)\n",
            "Requirement already satisfied: tensorboard~=2.6 in /usr/local/lib/python3.7/dist-packages (from tensorflow>=2.2->focal-loss) (2.6.0)\n",
            "Requirement already satisfied: flatbuffers~=1.12.0 in /usr/local/lib/python3.7/dist-packages (from tensorflow>=2.2->focal-loss) (1.12)\n",
            "Requirement already satisfied: cached-property in /usr/local/lib/python3.7/dist-packages (from h5py~=3.1.0->tensorflow>=2.2->focal-loss) (1.5.2)\n",
            "Requirement already satisfied: tensorboard-data-server<0.7.0,>=0.6.0 in /usr/local/lib/python3.7/dist-packages (from tensorboard~=2.6->tensorflow>=2.2->focal-loss) (0.6.1)\n",
            "Requirement already satisfied: google-auth-oauthlib<0.5,>=0.4.1 in /usr/local/lib/python3.7/dist-packages (from tensorboard~=2.6->tensorflow>=2.2->focal-loss) (0.4.5)\n",
            "Requirement already satisfied: requests<3,>=2.21.0 in /usr/local/lib/python3.7/dist-packages (from tensorboard~=2.6->tensorflow>=2.2->focal-loss) (2.23.0)\n",
            "Requirement already satisfied: setuptools>=41.0.0 in /usr/local/lib/python3.7/dist-packages (from tensorboard~=2.6->tensorflow>=2.2->focal-loss) (57.4.0)\n",
            "Requirement already satisfied: google-auth<2,>=1.6.3 in /usr/local/lib/python3.7/dist-packages (from tensorboard~=2.6->tensorflow>=2.2->focal-loss) (1.34.0)\n",
            "Requirement already satisfied: tensorboard-plugin-wit>=1.6.0 in /usr/local/lib/python3.7/dist-packages (from tensorboard~=2.6->tensorflow>=2.2->focal-loss) (1.8.0)\n",
            "Requirement already satisfied: markdown>=2.6.8 in /usr/local/lib/python3.7/dist-packages (from tensorboard~=2.6->tensorflow>=2.2->focal-loss) (3.3.4)\n",
            "Requirement already satisfied: werkzeug>=0.11.15 in /usr/local/lib/python3.7/dist-packages (from tensorboard~=2.6->tensorflow>=2.2->focal-loss) (1.0.1)\n",
            "Requirement already satisfied: rsa<5,>=3.1.4 in /usr/local/lib/python3.7/dist-packages (from google-auth<2,>=1.6.3->tensorboard~=2.6->tensorflow>=2.2->focal-loss) (4.7.2)\n",
            "Requirement already satisfied: pyasn1-modules>=0.2.1 in /usr/local/lib/python3.7/dist-packages (from google-auth<2,>=1.6.3->tensorboard~=2.6->tensorflow>=2.2->focal-loss) (0.2.8)\n",
            "Requirement already satisfied: cachetools<5.0,>=2.0.0 in /usr/local/lib/python3.7/dist-packages (from google-auth<2,>=1.6.3->tensorboard~=2.6->tensorflow>=2.2->focal-loss) (4.2.2)\n",
            "Requirement already satisfied: requests-oauthlib>=0.7.0 in /usr/local/lib/python3.7/dist-packages (from google-auth-oauthlib<0.5,>=0.4.1->tensorboard~=2.6->tensorflow>=2.2->focal-loss) (1.3.0)\n",
            "Requirement already satisfied: importlib-metadata in /usr/local/lib/python3.7/dist-packages (from markdown>=2.6.8->tensorboard~=2.6->tensorflow>=2.2->focal-loss) (4.6.4)\n",
            "Requirement already satisfied: pyasn1<0.5.0,>=0.4.6 in /usr/local/lib/python3.7/dist-packages (from pyasn1-modules>=0.2.1->google-auth<2,>=1.6.3->tensorboard~=2.6->tensorflow>=2.2->focal-loss) (0.4.8)\n",
            "Requirement already satisfied: idna<3,>=2.5 in /usr/local/lib/python3.7/dist-packages (from requests<3,>=2.21.0->tensorboard~=2.6->tensorflow>=2.2->focal-loss) (2.10)\n",
            "Requirement already satisfied: chardet<4,>=3.0.2 in /usr/local/lib/python3.7/dist-packages (from requests<3,>=2.21.0->tensorboard~=2.6->tensorflow>=2.2->focal-loss) (3.0.4)\n",
            "Requirement already satisfied: urllib3!=1.25.0,!=1.25.1,<1.26,>=1.21.1 in /usr/local/lib/python3.7/dist-packages (from requests<3,>=2.21.0->tensorboard~=2.6->tensorflow>=2.2->focal-loss) (1.24.3)\n",
            "Requirement already satisfied: certifi>=2017.4.17 in /usr/local/lib/python3.7/dist-packages (from requests<3,>=2.21.0->tensorboard~=2.6->tensorflow>=2.2->focal-loss) (2021.5.30)\n",
            "Requirement already satisfied: oauthlib>=3.0.0 in /usr/local/lib/python3.7/dist-packages (from requests-oauthlib>=0.7.0->google-auth-oauthlib<0.5,>=0.4.1->tensorboard~=2.6->tensorflow>=2.2->focal-loss) (3.1.1)\n",
            "Requirement already satisfied: zipp>=0.5 in /usr/local/lib/python3.7/dist-packages (from importlib-metadata->markdown>=2.6.8->tensorboard~=2.6->tensorflow>=2.2->focal-loss) (3.5.0)\n",
            "Installing collected packages: focal-loss\n",
            "Successfully installed focal-loss-0.0.7\n"
          ]
        }
      ]
    },
    {
      "cell_type": "code",
      "metadata": {
        "id": "lQB0dfC0y33Q"
      },
      "source": [
        "#@title Imports { form-width: \"20%\"}\n",
        "\n",
        "import numpy as np\n",
        "import tensorflow as tf\n",
        "\n",
        "from sklearn.metrics import classification_report"
      ],
      "execution_count": 2,
      "outputs": []
    },
    {
      "cell_type": "code",
      "metadata": {
        "id": "iGsPuYl3zvTz",
        "colab": {
          "base_uri": "https://localhost:8080/"
        },
        "outputId": "83c2ebd8-46ba-4735-c298-cb5be5e5f5fb"
      },
      "source": [
        "#@title Load dataset { form-width: \"20%\" }\n",
        "\n",
        "(x_train, y_train), (x_test, y_test) = tf.keras.datasets.cifar10.load_data()\n",
        "\n",
        "print(\"x_train: {} y_train: {} x_test: {} y_test: {}\".format(\n",
        "        x_train.shape, y_train.shape, x_test.shape, y_test.shape\n",
        "    )\n",
        ")\n",
        "\n",
        "print(\"x_train --> max: {} mean: {} min: {}\".format(\n",
        "        np.max(x_train), np.mean(x_train), np.min(x_train)\n",
        "    )\n",
        ")\n",
        "\n",
        "print(\"y_train --> unique_values: {}\".format(\n",
        "        np.unique(y_train)\n",
        "    )\n",
        ")"
      ],
      "execution_count": 3,
      "outputs": [
        {
          "output_type": "stream",
          "name": "stdout",
          "text": [
            "x_train: (50000, 32, 32, 3) y_train: (50000, 1) x_test: (10000, 32, 32, 3) y_test: (10000, 1)\n",
            "x_train --> max: 255 mean: 120.70756512369792 min: 0\n",
            "y_train --> unique_values: [0 1 2 3 4 5 6 7 8 9]\n"
          ]
        }
      ]
    },
    {
      "cell_type": "code",
      "metadata": {
        "colab": {
          "base_uri": "https://localhost:8080/"
        },
        "id": "SxQAM0431yue",
        "outputId": "4fea804b-e235-431c-f220-278306896a68"
      },
      "source": [
        "#@title Preprocessing { form-width: \"20%\" }\n",
        "\n",
        "x_train_preprocessed = tf.keras.applications.densenet.preprocess_input(x_train)\n",
        "x_test_preprocessed = tf.keras.applications.densenet.preprocess_input(x_test)\n",
        "\n",
        "print(\"x_train --> max: {} mean: {} min: {}\".format(\n",
        "        np.max(x_train_preprocessed),\n",
        "        np.mean(x_train_preprocessed),\n",
        "        np.min(x_train_preprocessed)\n",
        "    )\n",
        ")"
      ],
      "execution_count": 4,
      "outputs": [
        {
          "output_type": "stream",
          "name": "stdout",
          "text": [
            "x_train --> max: 2.640000104904175 mean: 0.10828698426485062 min: -2.1179039478302\n"
          ]
        }
      ]
    },
    {
      "cell_type": "code",
      "metadata": {
        "colab": {
          "base_uri": "https://localhost:8080/"
        },
        "id": "NMnKolyQBuZt",
        "outputId": "114f59c8-9f56-410b-9492-35e1b03f87e2"
      },
      "source": [
        "#@title One class classification { form-width: \"20%\" }\n",
        "\n",
        "selected_class = 0\n",
        "\n",
        "y_train_one_class = y_train.copy()\n",
        "y_train_one_class[y_train == selected_class] = 0\n",
        "y_train_one_class[y_train != selected_class] = 1\n",
        "\n",
        "y_test_one_class = y_test.copy()\n",
        "y_test_one_class[y_test == selected_class] = 0\n",
        "y_test_one_class[y_test != selected_class] = 1\n",
        "\n",
        "print(np.unique(y_train_one_class))\n",
        "print(np.unique(y_test_one_class))"
      ],
      "execution_count": 5,
      "outputs": [
        {
          "output_type": "stream",
          "name": "stdout",
          "text": [
            "[0 1]\n",
            "[0 1]\n"
          ]
        }
      ]
    },
    {
      "cell_type": "code",
      "metadata": {
        "colab": {
          "base_uri": "https://localhost:8080/"
        },
        "id": "Jqc0wh0926yX",
        "outputId": "7b19a108-ec03-47c6-99af-bb6654661a46"
      },
      "source": [
        "#@title Build model { form-width: \"20%\" }\n",
        "\n",
        "model = tf.keras.Sequential()\n",
        "\n",
        "model.add(\n",
        "    tf.keras.applications.DenseNet121(\n",
        "        include_top=False,\n",
        "        weights=\"imagenet\",\n",
        "        input_shape=(32, 32, 3),\n",
        "    )\n",
        ")\n",
        "\n",
        "for layer in model.layers:\n",
        "    layer.trainable = False\n",
        "\n",
        "model.add(\n",
        "    tf.keras.layers.Flatten()\n",
        ")\n",
        "\n",
        "model.add(\n",
        "    tf.keras.layers.Dense(256, activation=\"relu\")\n",
        ")\n",
        "\n",
        "model.add(\n",
        "    tf.keras.layers.Dense(64, activation=\"relu\")\n",
        ")\n",
        "\n",
        "model.add(\n",
        "    tf.keras.layers.Dense(2, activation=\"softmax\")\n",
        ")\n",
        "\n",
        "adam = tf.keras.optimizers.Adam(learning_rate=.0001)\n",
        "\n",
        "# from focal_loss import SparseCategoricalFocalLoss\n",
        "# loss_func = SparseCategoricalFocalLoss(gamma=2)\n",
        "loss_func = \"sparse_categorical_crossentropy\"\n",
        "\n",
        "model.compile(\n",
        "    loss=loss_func,\n",
        "    optimizer=adam,\n",
        "    metrics=[\"accuracy\"]\n",
        ")\n",
        "\n",
        "model.summary()"
      ],
      "execution_count": 12,
      "outputs": [
        {
          "output_type": "stream",
          "name": "stdout",
          "text": [
            "Model: \"sequential_3\"\n",
            "_________________________________________________________________\n",
            "Layer (type)                 Output Shape              Param #   \n",
            "=================================================================\n",
            "densenet121 (Functional)     (None, 1, 1, 1024)        7037504   \n",
            "_________________________________________________________________\n",
            "flatten_3 (Flatten)          (None, 1024)              0         \n",
            "_________________________________________________________________\n",
            "dense_9 (Dense)              (None, 256)               262400    \n",
            "_________________________________________________________________\n",
            "dense_10 (Dense)             (None, 64)                16448     \n",
            "_________________________________________________________________\n",
            "dense_11 (Dense)             (None, 2)                 130       \n",
            "=================================================================\n",
            "Total params: 7,316,482\n",
            "Trainable params: 278,978\n",
            "Non-trainable params: 7,037,504\n",
            "_________________________________________________________________\n"
          ]
        }
      ]
    },
    {
      "cell_type": "code",
      "metadata": {
        "colab": {
          "base_uri": "https://localhost:8080/"
        },
        "id": "EeFA6IINjiE2",
        "outputId": "eab2be38-9c70-405c-b853-5a5cbbad8fbe"
      },
      "source": [
        "model = tf.keras.Sequential()\n",
        "\n",
        "model.add(\n",
        "    tf.keras.layers.InputLayer((32, 32, 3))\n",
        ")\n",
        "\n",
        "model.add(\n",
        "     tf.keras.layers.Conv2D(32, (3, 3))\n",
        ")\n",
        "model.add(\n",
        "     tf.keras.layers.Conv2D(32, (3, 3))\n",
        ")\n",
        "model.add(\n",
        "     tf.keras.layers.MaxPool2D((2, 2))\n",
        ")\n",
        "\n",
        "model.add(\n",
        "     tf.keras.layers.Conv2D(64, (3, 3))\n",
        ")\n",
        "model.add(\n",
        "     tf.keras.layers.Conv2D(64, (3, 3))\n",
        ")\n",
        "model.add(\n",
        "     tf.keras.layers.MaxPool2D((2, 2))\n",
        ")\n",
        "\n",
        "# model.add(\n",
        "#      tf.keras.layers.Conv2D(32, (3, 3))\n",
        "# )\n",
        "# model.add(\n",
        "#      tf.keras.layers.Conv2D(32, (3, 3))\n",
        "# )\n",
        "# model.add(\n",
        "#      tf.keras.layers.MaxPool2D((2, 2))\n",
        "# )\n",
        "\n",
        "model.add(\n",
        "    tf.keras.layers.Flatten()\n",
        ")\n",
        "\n",
        "model.add(\n",
        "    tf.keras.layers.Dense(512, activation=\"relu\")\n",
        ")\n",
        "\n",
        "model.add(\n",
        "    tf.keras.layers.Dense(128, activation=\"relu\")\n",
        ")\n",
        "\n",
        "model.add(\n",
        "    tf.keras.layers.Dense(2, activation=\"softmax\")\n",
        ")\n",
        "\n",
        "# from focal_loss import SparseCategoricalFocalLoss\n",
        "# loss_func = SparseCategoricalFocalLoss(gamma=2)\n",
        "loss_func = \"sparse_categorical_crossentropy\"\n",
        "\n",
        "\n",
        "model.compile(\n",
        "    loss=loss_func,\n",
        "    optimizer=\"adam\",\n",
        "    metrics=[\"accuracy\"]\n",
        ")\n",
        "\n",
        "model.summary()"
      ],
      "execution_count": 42,
      "outputs": [
        {
          "output_type": "stream",
          "name": "stdout",
          "text": [
            "Model: \"sequential_4\"\n",
            "_________________________________________________________________\n",
            "Layer (type)                 Output Shape              Param #   \n",
            "=================================================================\n",
            "conv2d_12 (Conv2D)           (None, 30, 30, 32)        896       \n",
            "_________________________________________________________________\n",
            "conv2d_13 (Conv2D)           (None, 28, 28, 32)        9248      \n",
            "_________________________________________________________________\n",
            "max_pooling2d_6 (MaxPooling2 (None, 14, 14, 32)        0         \n",
            "_________________________________________________________________\n",
            "conv2d_14 (Conv2D)           (None, 12, 12, 64)        18496     \n",
            "_________________________________________________________________\n",
            "conv2d_15 (Conv2D)           (None, 10, 10, 64)        36928     \n",
            "_________________________________________________________________\n",
            "max_pooling2d_7 (MaxPooling2 (None, 5, 5, 64)          0         \n",
            "_________________________________________________________________\n",
            "flatten_4 (Flatten)          (None, 1600)              0         \n",
            "_________________________________________________________________\n",
            "dense_12 (Dense)             (None, 512)               819712    \n",
            "_________________________________________________________________\n",
            "dense_13 (Dense)             (None, 128)               65664     \n",
            "_________________________________________________________________\n",
            "dense_14 (Dense)             (None, 2)                 258       \n",
            "=================================================================\n",
            "Total params: 951,202\n",
            "Trainable params: 951,202\n",
            "Non-trainable params: 0\n",
            "_________________________________________________________________\n"
          ]
        }
      ]
    },
    {
      "cell_type": "code",
      "metadata": {
        "colab": {
          "base_uri": "https://localhost:8080/"
        },
        "id": "FzDHU_L73sny",
        "outputId": "26ce2429-6766-4221-d75d-67ee5b8d389f"
      },
      "source": [
        "#@title Train { form-width: \"20%\" }\n",
        "\n",
        "# weights = {0: 1., 1: .1}\n",
        "\n",
        "class CustomCallback(tf.keras.callbacks.Callback):\n",
        "    def on_epoch_end(self, epoch, logs=None):\n",
        "        print(\"epoch\", epoch)\n",
        "        y_pred = np.argmax(model.predict(x_test_preprocessed), axis=1)\n",
        "        print(classification_report(y_test_one_class, y_pred))\n",
        "\n",
        "\n",
        "model.fit(\n",
        "    x_train_preprocessed, y_train_one_class,\n",
        "    validation_split=.1, batch_size=32, epochs=20,\n",
        "    callbacks=[CustomCallback()], class_weight=weights\n",
        ")"
      ],
      "execution_count": null,
      "outputs": [
        {
          "output_type": "stream",
          "name": "stdout",
          "text": [
            "Epoch 1/20\n",
            "1407/1407 [==============================] - 15s 10ms/step - loss: 0.0904 - accuracy: 0.7551 - val_loss: 0.3920 - val_accuracy: 0.8076\n",
            "epoch 0\n",
            "              precision    recall  f1-score   support\n",
            "\n",
            "           0       0.33      0.87      0.48      1000\n",
            "           1       0.98      0.80      0.88      9000\n",
            "\n",
            "    accuracy                           0.81     10000\n",
            "   macro avg       0.65      0.84      0.68     10000\n",
            "weighted avg       0.92      0.81      0.84     10000\n",
            "\n",
            "Epoch 2/20\n",
            "1407/1407 [==============================] - 13s 9ms/step - loss: 0.0757 - accuracy: 0.8060 - val_loss: 0.3271 - val_accuracy: 0.8908\n",
            "epoch 1\n",
            "              precision    recall  f1-score   support\n",
            "\n",
            "           0       0.46      0.81      0.59      1000\n",
            "           1       0.98      0.90      0.94      9000\n",
            "\n",
            "    accuracy                           0.89     10000\n",
            "   macro avg       0.72      0.85      0.76     10000\n",
            "weighted avg       0.93      0.89      0.90     10000\n",
            "\n",
            "Epoch 3/20\n",
            "1407/1407 [==============================] - 13s 9ms/step - loss: 0.0663 - accuracy: 0.8360 - val_loss: 0.3372 - val_accuracy: 0.8514\n",
            "epoch 2\n",
            "              precision    recall  f1-score   support\n",
            "\n",
            "           0       0.39      0.88      0.54      1000\n",
            "           1       0.98      0.85      0.91      9000\n",
            "\n",
            "    accuracy                           0.85     10000\n",
            "   macro avg       0.69      0.86      0.73     10000\n",
            "weighted avg       0.92      0.85      0.88     10000\n",
            "\n",
            "Epoch 4/20\n",
            "1407/1407 [==============================] - 13s 9ms/step - loss: 0.0619 - accuracy: 0.8528 - val_loss: 0.3289 - val_accuracy: 0.8724\n",
            "epoch 3\n",
            "              precision    recall  f1-score   support\n",
            "\n",
            "           0       0.42      0.85      0.56      1000\n",
            "           1       0.98      0.87      0.92      9000\n",
            "\n",
            "    accuracy                           0.87     10000\n",
            "   macro avg       0.70      0.86      0.74     10000\n",
            "weighted avg       0.92      0.87      0.89     10000\n",
            "\n",
            "Epoch 5/20\n",
            "1407/1407 [==============================] - 13s 9ms/step - loss: 0.0538 - accuracy: 0.8713 - val_loss: 0.3191 - val_accuracy: 0.8562\n",
            "epoch 4\n",
            "              precision    recall  f1-score   support\n",
            "\n",
            "           0       0.40      0.88      0.55      1000\n",
            "           1       0.98      0.85      0.91      9000\n",
            "\n",
            "    accuracy                           0.86     10000\n",
            "   macro avg       0.69      0.87      0.73     10000\n",
            "weighted avg       0.93      0.86      0.88     10000\n",
            "\n",
            "Epoch 6/20\n",
            "1407/1407 [==============================] - 13s 9ms/step - loss: 0.0501 - accuracy: 0.8826 - val_loss: 0.2733 - val_accuracy: 0.8964\n",
            "epoch 5\n",
            "              precision    recall  f1-score   support\n",
            "\n",
            "           0       0.47      0.85      0.61      1000\n",
            "           1       0.98      0.90      0.94      9000\n",
            "\n",
            "    accuracy                           0.89     10000\n",
            "   macro avg       0.73      0.87      0.77     10000\n",
            "weighted avg       0.93      0.89      0.90     10000\n",
            "\n",
            "Epoch 7/20\n",
            "1407/1407 [==============================] - 13s 9ms/step - loss: 0.0406 - accuracy: 0.9033 - val_loss: 0.2805 - val_accuracy: 0.8882\n",
            "epoch 6\n",
            "              precision    recall  f1-score   support\n",
            "\n",
            "           0       0.47      0.85      0.60      1000\n",
            "           1       0.98      0.89      0.93      9000\n",
            "\n",
            "    accuracy                           0.89     10000\n",
            "   macro avg       0.72      0.87      0.77     10000\n",
            "weighted avg       0.93      0.89      0.90     10000\n",
            "\n",
            "Epoch 8/20\n",
            "1407/1407 [==============================] - 13s 9ms/step - loss: 0.0366 - accuracy: 0.9177 - val_loss: 0.2982 - val_accuracy: 0.8972\n",
            "epoch 7\n",
            "              precision    recall  f1-score   support\n",
            "\n",
            "           0       0.50      0.86      0.63      1000\n",
            "           1       0.98      0.90      0.94      9000\n",
            "\n",
            "    accuracy                           0.90     10000\n",
            "   macro avg       0.74      0.88      0.78     10000\n",
            "weighted avg       0.93      0.90      0.91     10000\n",
            "\n",
            "Epoch 9/20\n",
            "1407/1407 [==============================] - 13s 9ms/step - loss: 0.0296 - accuracy: 0.9332 - val_loss: 0.2252 - val_accuracy: 0.9222\n",
            "epoch 8\n",
            "              precision    recall  f1-score   support\n",
            "\n",
            "           0       0.56      0.76      0.65      1000\n",
            "           1       0.97      0.94      0.95      9000\n",
            "\n",
            "    accuracy                           0.92     10000\n",
            "   macro avg       0.77      0.85      0.80     10000\n",
            "weighted avg       0.93      0.92      0.92     10000\n",
            "\n",
            "Epoch 10/20\n",
            "1407/1407 [==============================] - 13s 9ms/step - loss: 0.0297 - accuracy: 0.9381 - val_loss: 0.2186 - val_accuracy: 0.9282\n",
            "epoch 9\n",
            "              precision    recall  f1-score   support\n",
            "\n",
            "           0       0.59      0.76      0.66      1000\n",
            "           1       0.97      0.94      0.96      9000\n",
            "\n",
            "    accuracy                           0.92     10000\n",
            "   macro avg       0.78      0.85      0.81     10000\n",
            "weighted avg       0.93      0.92      0.93     10000\n",
            "\n",
            "Epoch 11/20\n",
            "1407/1407 [==============================] - 13s 9ms/step - loss: 0.0301 - accuracy: 0.9416 - val_loss: 0.2290 - val_accuracy: 0.9228\n",
            "epoch 10\n",
            "              precision    recall  f1-score   support\n",
            "\n",
            "           0       0.56      0.75      0.64      1000\n",
            "           1       0.97      0.93      0.95      9000\n",
            "\n",
            "    accuracy                           0.92     10000\n",
            "   macro avg       0.76      0.84      0.80     10000\n",
            "weighted avg       0.93      0.92      0.92     10000\n",
            "\n",
            "Epoch 12/20\n",
            "1407/1407 [==============================] - 13s 9ms/step - loss: 0.0235 - accuracy: 0.9550 - val_loss: 0.3029 - val_accuracy: 0.8936\n",
            "epoch 11\n",
            "              precision    recall  f1-score   support\n",
            "\n",
            "           0       0.45      0.80      0.58      1000\n",
            "           1       0.98      0.89      0.93      9000\n",
            "\n",
            "    accuracy                           0.88     10000\n",
            "   macro avg       0.71      0.84      0.75     10000\n",
            "weighted avg       0.92      0.88      0.90     10000\n",
            "\n",
            "Epoch 13/20\n",
            "1407/1407 [==============================] - 13s 9ms/step - loss: 0.0203 - accuracy: 0.9589 - val_loss: 0.2401 - val_accuracy: 0.9226\n",
            "epoch 12\n",
            "              precision    recall  f1-score   support\n",
            "\n",
            "           0       0.55      0.74      0.63      1000\n",
            "           1       0.97      0.93      0.95      9000\n",
            "\n",
            "    accuracy                           0.91     10000\n",
            "   macro avg       0.76      0.84      0.79     10000\n",
            "weighted avg       0.93      0.91      0.92     10000\n",
            "\n",
            "Epoch 14/20\n",
            "1407/1407 [==============================] - 13s 9ms/step - loss: 0.0214 - accuracy: 0.9603 - val_loss: 0.2840 - val_accuracy: 0.9028\n",
            "epoch 13\n",
            "              precision    recall  f1-score   support\n",
            "\n",
            "           0       0.52      0.75      0.61      1000\n",
            "           1       0.97      0.92      0.95      9000\n",
            "\n",
            "    accuracy                           0.91     10000\n",
            "   macro avg       0.74      0.84      0.78     10000\n",
            "weighted avg       0.93      0.91      0.91     10000\n",
            "\n",
            "Epoch 15/20\n",
            "1407/1407 [==============================] - 13s 9ms/step - loss: 0.0189 - accuracy: 0.9646 - val_loss: 0.2902 - val_accuracy: 0.9290\n",
            "epoch 14\n",
            "              precision    recall  f1-score   support\n",
            "\n",
            "           0       0.61      0.69      0.65      1000\n",
            "           1       0.96      0.95      0.96      9000\n",
            "\n",
            "    accuracy                           0.93     10000\n",
            "   macro avg       0.79      0.82      0.80     10000\n",
            "weighted avg       0.93      0.93      0.93     10000\n",
            "\n",
            "Epoch 16/20\n",
            "1407/1407 [==============================] - 13s 9ms/step - loss: 0.0185 - accuracy: 0.9674 - val_loss: 0.2262 - val_accuracy: 0.9416\n",
            "epoch 15\n",
            "              precision    recall  f1-score   support\n",
            "\n",
            "           0       0.70      0.68      0.69      1000\n",
            "           1       0.96      0.97      0.97      9000\n",
            "\n",
            "    accuracy                           0.94     10000\n",
            "   macro avg       0.83      0.82      0.83     10000\n",
            "weighted avg       0.94      0.94      0.94     10000\n",
            "\n",
            "Epoch 17/20\n",
            "1407/1407 [==============================] - 13s 9ms/step - loss: 0.0212 - accuracy: 0.9665 - val_loss: 0.3177 - val_accuracy: 0.9284\n",
            "epoch 16\n",
            "              precision    recall  f1-score   support\n",
            "\n",
            "           0       0.62      0.61      0.61      1000\n",
            "           1       0.96      0.96      0.96      9000\n",
            "\n",
            "    accuracy                           0.92     10000\n",
            "   macro avg       0.79      0.78      0.79     10000\n",
            "weighted avg       0.92      0.92      0.92     10000\n",
            "\n",
            "Epoch 18/20\n",
            "1407/1407 [==============================] - 13s 9ms/step - loss: 0.0164 - accuracy: 0.9704 - val_loss: 0.2980 - val_accuracy: 0.9250\n",
            "epoch 17\n",
            "              precision    recall  f1-score   support\n",
            "\n",
            "           0       0.58      0.78      0.66      1000\n",
            "           1       0.97      0.94      0.96      9000\n",
            "\n",
            "    accuracy                           0.92     10000\n",
            "   macro avg       0.78      0.86      0.81     10000\n",
            "weighted avg       0.93      0.92      0.93     10000\n",
            "\n",
            "Epoch 19/20\n",
            "1024/1407 [====================>.........] - ETA: 3s - loss: 0.0141 - accuracy: 0.9757"
          ]
        }
      ]
    },
    {
      "cell_type": "code",
      "metadata": {
        "colab": {
          "base_uri": "https://localhost:8080/"
        },
        "id": "KPwSZ3f6Enfc",
        "outputId": "f99d18df-f959-48e2-f4b5-54713f682d65"
      },
      "source": [
        "#@title Evaluation { form-width: \"20%\" }\n",
        "\n",
        "y_pred = np.argmax(model.predict(x_test_preprocessed), axis=1)\n",
        "\n",
        "print(y_pred.shape)\n",
        "\n",
        "print(classification_report(y_test_one_class, y_pred))"
      ],
      "execution_count": 14,
      "outputs": [
        {
          "output_type": "stream",
          "name": "stdout",
          "text": [
            "(10000,)\n",
            "              precision    recall  f1-score   support\n",
            "\n",
            "           0       0.86      0.58      0.69      1000\n",
            "           1       0.95      0.99      0.97      9000\n",
            "\n",
            "    accuracy                           0.95     10000\n",
            "   macro avg       0.91      0.78      0.83     10000\n",
            "weighted avg       0.94      0.95      0.94     10000\n",
            "\n"
          ]
        }
      ]
    },
    {
      "cell_type": "code",
      "metadata": {
        "colab": {
          "base_uri": "https://localhost:8080/"
        },
        "id": "7yuhG7f8yE2k",
        "outputId": "e2fffa81-32d6-4b23-ad9d-2cf7dc52990e"
      },
      "source": [
        "#@title Feature extraction { form-width: \"20%\" }\n",
        "\n",
        "topless_model = tf.keras.Model(\n",
        "    inputs=model.input,\n",
        "    outputs=model.get_layer(model.layers[-2].name).output\n",
        ")\n",
        "\n",
        "\n",
        "features = topless_model.predict(x_test_preprocessed)\n",
        "\n",
        "print(features.shape)"
      ],
      "execution_count": 20,
      "outputs": [
        {
          "output_type": "stream",
          "name": "stdout",
          "text": [
            "(10000, 64)\n"
          ]
        }
      ]
    },
    {
      "cell_type": "code",
      "metadata": {
        "colab": {
          "base_uri": "https://localhost:8080/"
        },
        "id": "ig0fzlVzzio7",
        "outputId": "7350cd1c-f70c-4753-c986-747a58cf83d6"
      },
      "source": [
        "#@title Dimensionality reduction { form-width: \"20%\" }\n",
        "\n",
        "from sklearn.manifold import TSNE\n",
        "\n",
        "features_2d= TSNE(n_components=2).fit_transform(features)\n",
        "\n",
        "print(features_2d.shape)"
      ],
      "execution_count": 23,
      "outputs": [
        {
          "output_type": "stream",
          "name": "stdout",
          "text": [
            "(10000, 2)\n"
          ]
        }
      ]
    },
    {
      "cell_type": "code",
      "metadata": {
        "colab": {
          "base_uri": "https://localhost:8080/",
          "height": 265
        },
        "id": "j7gQe1_u0GyV",
        "outputId": "3eb95cd9-0099-4fe0-9d9f-ce4893b6ba38"
      },
      "source": [
        "#@title Feature visualization { form-width: \"20%\" }\n",
        "\n",
        "import matplotlib.pyplot as plt\n",
        "\n",
        "plt.scatter(\n",
        "    features_2d[(y_test_one_class==1).ravel(), 0],\n",
        "    features_2d[(y_test_one_class==1).ravel(), 1]\n",
        ")\n",
        "plt.scatter(\n",
        "    features_2d[(y_test_one_class==0).ravel(), 0],\n",
        "    features_2d[(y_test_one_class==0).ravel(), 1]\n",
        ")\n",
        "plt.show()"
      ],
      "execution_count": 41,
      "outputs": [
        {
          "output_type": "display_data",
          "data": {
            "image/png": "[encoded data removed]",
            "text/plain": [
              "<Figure size 432x288 with 1 Axes>"
            ]
          },
          "metadata": {
            "needs_background": "light"
          }
        }
      ]
    }
  ]
}