{
  "nbformat": 4,
  "nbformat_minor": 0,
  "metadata": {
    "colab": {
      "name": "rubika_interview_exam.ipynb",
      "provenance": [],
      "collapsed_sections": [],
      "authorship_tag": "ABX9TyOmrEzsWX86LQ4l94gS/kuZ",
      "include_colab_link": true
    },
    "kernelspec": {
      "name": "python3",
      "display_name": "Python 3"
    },
    "language_info": {
      "name": "python"
    },
    "accelerator": "GPU"
  },
  "cells": [
    {
      "cell_type": "markdown",
      "metadata": {
        "id": "view-in-github",
        "colab_type": "text"
      },
      "source": [
        "<a href=\"https://colab.research.google.com/github/sandstorm12/RubikaInterviewExam/blob/dev/rubika_interview_exam.ipynb\" target=\"_parent\"><img src=\"https://colab.research.google.com/assets/colab-badge.svg\" alt=\"Open In Colab\"/></a>"
      ]
    },
    {
      "cell_type": "markdown",
      "metadata": {
        "id": "3KOdanAeJWOq"
      },
      "source": [
        "# Issues and future work\n",
        "\n",
        "1. Try oversampling using augmentation"
      ]
    },
    {
      "cell_type": "code",
      "metadata": {
        "colab": {
          "base_uri": "https://localhost:8080/"
        },
        "id": "w66d5_H4FghN",
        "cellView": "form",
        "outputId": "ad14572b-5d71-4dec-dd33-113c3a990c0d"
      },
      "source": [
        "#@title System check { form-width: \"20%\" }\n",
        "\n",
        "!nvidia-smi"
      ],
      "execution_count": 1,
      "outputs": [
        {
          "output_type": "stream",
          "name": "stdout",
          "text": [
            "Wed Sep 15 13:49:52 2021       \n",
            "+-----------------------------------------------------------------------------+\n",
            "| NVIDIA-SMI 470.63.01    Driver Version: 460.32.03    CUDA Version: 11.2     |\n",
            "|-------------------------------+----------------------+----------------------+\n",
            "| GPU  Name        Persistence-M| Bus-Id        Disp.A | Volatile Uncorr. ECC |\n",
            "| Fan  Temp  Perf  Pwr:Usage/Cap|         Memory-Usage | GPU-Util  Compute M. |\n",
            "|                               |                      |               MIG M. |\n",
            "|===============================+======================+======================|\n",
            "|   0  Tesla K80           Off  | 00000000:00:04.0 Off |                    0 |\n",
            "| N/A   71C    P8    34W / 149W |      0MiB / 11441MiB |      0%      Default |\n",
            "|                               |                      |                  N/A |\n",
            "+-------------------------------+----------------------+----------------------+\n",
            "                                                                               \n",
            "+-----------------------------------------------------------------------------+\n",
            "| Processes:                                                                  |\n",
            "|  GPU   GI   CI        PID   Type   Process name                  GPU Memory |\n",
            "|        ID   ID                                                   Usage      |\n",
            "|=============================================================================|\n",
            "|  No running processes found                                                 |\n",
            "+-----------------------------------------------------------------------------+\n"
          ]
        }
      ]
    },
    {
      "cell_type": "code",
      "metadata": {
        "colab": {
          "base_uri": "https://localhost:8080/"
        },
        "id": "8Jr6vXRgKQ8S",
        "cellView": "form",
        "outputId": "76d20bbc-0e7f-4a2e-c43f-010c1b8888bd"
      },
      "source": [
        "#@title Installation { form-width: \"20%\" }\n",
        "\n",
        "!pip3 install focal-loss"
      ],
      "execution_count": 1,
      "outputs": [
        {
          "output_type": "stream",
          "name": "stdout",
          "text": [
            "Collecting focal-loss\n",
            "  Downloading focal_loss-0.0.7-py3-none-any.whl (19 kB)\n",
            "Requirement already satisfied: tensorflow>=2.2 in /usr/local/lib/python3.7/dist-packages (from focal-loss) (2.6.0)\n",
            "Requirement already satisfied: wheel~=0.35 in /usr/local/lib/python3.7/dist-packages (from tensorflow>=2.2->focal-loss) (0.37.0)\n",
            "Requirement already satisfied: termcolor~=1.1.0 in /usr/local/lib/python3.7/dist-packages (from tensorflow>=2.2->focal-loss) (1.1.0)\n",
            "Requirement already satisfied: flatbuffers~=1.12.0 in /usr/local/lib/python3.7/dist-packages (from tensorflow>=2.2->focal-loss) (1.12)\n",
            "Requirement already satisfied: typing-extensions~=3.7.4 in /usr/local/lib/python3.7/dist-packages (from tensorflow>=2.2->focal-loss) (3.7.4.3)\n",
            "Requirement already satisfied: absl-py~=0.10 in /usr/local/lib/python3.7/dist-packages (from tensorflow>=2.2->focal-loss) (0.12.0)\n",
            "Requirement already satisfied: protobuf>=3.9.2 in /usr/local/lib/python3.7/dist-packages (from tensorflow>=2.2->focal-loss) (3.17.3)\n",
            "Requirement already satisfied: h5py~=3.1.0 in /usr/local/lib/python3.7/dist-packages (from tensorflow>=2.2->focal-loss) (3.1.0)\n",
            "Requirement already satisfied: six~=1.15.0 in /usr/local/lib/python3.7/dist-packages (from tensorflow>=2.2->focal-loss) (1.15.0)\n",
            "Requirement already satisfied: wrapt~=1.12.1 in /usr/local/lib/python3.7/dist-packages (from tensorflow>=2.2->focal-loss) (1.12.1)\n",
            "Requirement already satisfied: clang~=5.0 in /usr/local/lib/python3.7/dist-packages (from tensorflow>=2.2->focal-loss) (5.0)\n",
            "Requirement already satisfied: tensorboard~=2.6 in /usr/local/lib/python3.7/dist-packages (from tensorflow>=2.2->focal-loss) (2.6.0)\n",
            "Requirement already satisfied: tensorflow-estimator~=2.6 in /usr/local/lib/python3.7/dist-packages (from tensorflow>=2.2->focal-loss) (2.6.0)\n",
            "Requirement already satisfied: keras-preprocessing~=1.1.2 in /usr/local/lib/python3.7/dist-packages (from tensorflow>=2.2->focal-loss) (1.1.2)\n",
            "Requirement already satisfied: grpcio<2.0,>=1.37.0 in /usr/local/lib/python3.7/dist-packages (from tensorflow>=2.2->focal-loss) (1.39.0)\n",
            "Requirement already satisfied: astunparse~=1.6.3 in /usr/local/lib/python3.7/dist-packages (from tensorflow>=2.2->focal-loss) (1.6.3)\n",
            "Requirement already satisfied: keras~=2.6 in /usr/local/lib/python3.7/dist-packages (from tensorflow>=2.2->focal-loss) (2.6.0)\n",
            "Requirement already satisfied: numpy~=1.19.2 in /usr/local/lib/python3.7/dist-packages (from tensorflow>=2.2->focal-loss) (1.19.5)\n",
            "Requirement already satisfied: opt-einsum~=3.3.0 in /usr/local/lib/python3.7/dist-packages (from tensorflow>=2.2->focal-loss) (3.3.0)\n",
            "Requirement already satisfied: google-pasta~=0.2 in /usr/local/lib/python3.7/dist-packages (from tensorflow>=2.2->focal-loss) (0.2.0)\n",
            "Requirement already satisfied: gast==0.4.0 in /usr/local/lib/python3.7/dist-packages (from tensorflow>=2.2->focal-loss) (0.4.0)\n",
            "Requirement already satisfied: cached-property in /usr/local/lib/python3.7/dist-packages (from h5py~=3.1.0->tensorflow>=2.2->focal-loss) (1.5.2)\n",
            "Requirement already satisfied: markdown>=2.6.8 in /usr/local/lib/python3.7/dist-packages (from tensorboard~=2.6->tensorflow>=2.2->focal-loss) (3.3.4)\n",
            "Requirement already satisfied: tensorboard-plugin-wit>=1.6.0 in /usr/local/lib/python3.7/dist-packages (from tensorboard~=2.6->tensorflow>=2.2->focal-loss) (1.8.0)\n",
            "Requirement already satisfied: tensorboard-data-server<0.7.0,>=0.6.0 in /usr/local/lib/python3.7/dist-packages (from tensorboard~=2.6->tensorflow>=2.2->focal-loss) (0.6.1)\n",
            "Requirement already satisfied: werkzeug>=0.11.15 in /usr/local/lib/python3.7/dist-packages (from tensorboard~=2.6->tensorflow>=2.2->focal-loss) (1.0.1)\n",
            "Requirement already satisfied: google-auth-oauthlib<0.5,>=0.4.1 in /usr/local/lib/python3.7/dist-packages (from tensorboard~=2.6->tensorflow>=2.2->focal-loss) (0.4.5)\n",
            "Requirement already satisfied: google-auth<2,>=1.6.3 in /usr/local/lib/python3.7/dist-packages (from tensorboard~=2.6->tensorflow>=2.2->focal-loss) (1.34.0)\n",
            "Requirement already satisfied: requests<3,>=2.21.0 in /usr/local/lib/python3.7/dist-packages (from tensorboard~=2.6->tensorflow>=2.2->focal-loss) (2.23.0)\n",
            "Requirement already satisfied: setuptools>=41.0.0 in /usr/local/lib/python3.7/dist-packages (from tensorboard~=2.6->tensorflow>=2.2->focal-loss) (57.4.0)\n",
            "Requirement already satisfied: rsa<5,>=3.1.4 in /usr/local/lib/python3.7/dist-packages (from google-auth<2,>=1.6.3->tensorboard~=2.6->tensorflow>=2.2->focal-loss) (4.7.2)\n",
            "Requirement already satisfied: pyasn1-modules>=0.2.1 in /usr/local/lib/python3.7/dist-packages (from google-auth<2,>=1.6.3->tensorboard~=2.6->tensorflow>=2.2->focal-loss) (0.2.8)\n",
            "Requirement already satisfied: cachetools<5.0,>=2.0.0 in /usr/local/lib/python3.7/dist-packages (from google-auth<2,>=1.6.3->tensorboard~=2.6->tensorflow>=2.2->focal-loss) (4.2.2)\n",
            "Requirement already satisfied: requests-oauthlib>=0.7.0 in /usr/local/lib/python3.7/dist-packages (from google-auth-oauthlib<0.5,>=0.4.1->tensorboard~=2.6->tensorflow>=2.2->focal-loss) (1.3.0)\n",
            "Requirement already satisfied: importlib-metadata in /usr/local/lib/python3.7/dist-packages (from markdown>=2.6.8->tensorboard~=2.6->tensorflow>=2.2->focal-loss) (4.6.4)\n",
            "Requirement already satisfied: pyasn1<0.5.0,>=0.4.6 in /usr/local/lib/python3.7/dist-packages (from pyasn1-modules>=0.2.1->google-auth<2,>=1.6.3->tensorboard~=2.6->tensorflow>=2.2->focal-loss) (0.4.8)\n",
            "Requirement already satisfied: chardet<4,>=3.0.2 in /usr/local/lib/python3.7/dist-packages (from requests<3,>=2.21.0->tensorboard~=2.6->tensorflow>=2.2->focal-loss) (3.0.4)\n",
            "Requirement already satisfied: certifi>=2017.4.17 in /usr/local/lib/python3.7/dist-packages (from requests<3,>=2.21.0->tensorboard~=2.6->tensorflow>=2.2->focal-loss) (2021.5.30)\n",
            "Requirement already satisfied: idna<3,>=2.5 in /usr/local/lib/python3.7/dist-packages (from requests<3,>=2.21.0->tensorboard~=2.6->tensorflow>=2.2->focal-loss) (2.10)\n",
            "Requirement already satisfied: urllib3!=1.25.0,!=1.25.1,<1.26,>=1.21.1 in /usr/local/lib/python3.7/dist-packages (from requests<3,>=2.21.0->tensorboard~=2.6->tensorflow>=2.2->focal-loss) (1.24.3)\n",
            "Requirement already satisfied: oauthlib>=3.0.0 in /usr/local/lib/python3.7/dist-packages (from requests-oauthlib>=0.7.0->google-auth-oauthlib<0.5,>=0.4.1->tensorboard~=2.6->tensorflow>=2.2->focal-loss) (3.1.1)\n",
            "Requirement already satisfied: zipp>=0.5 in /usr/local/lib/python3.7/dist-packages (from importlib-metadata->markdown>=2.6.8->tensorboard~=2.6->tensorflow>=2.2->focal-loss) (3.5.0)\n",
            "Installing collected packages: focal-loss\n",
            "Successfully installed focal-loss-0.0.7\n"
          ]
        }
      ]
    },
    {
      "cell_type": "code",
      "metadata": {
        "id": "lQB0dfC0y33Q",
        "cellView": "form"
      },
      "source": [
        "#@title Imports { form-width: \"20%\"}\n",
        "\n",
        "import numpy as np\n",
        "import tensorflow as tf\n",
        "\n",
        "from sklearn.metrics import confusion_matrix\n",
        "from sklearn.metrics import classification_report\n",
        "from focal_loss import SparseCategoricalFocalLoss"
      ],
      "execution_count": 2,
      "outputs": []
    },
    {
      "cell_type": "code",
      "metadata": {
        "id": "iGsPuYl3zvTz",
        "colab": {
          "base_uri": "https://localhost:8080/"
        },
        "cellView": "form",
        "outputId": "274f2621-e1d7-4b42-c589-5a067e68f355"
      },
      "source": [
        "#@title Load dataset { form-width: \"20%\" }\n",
        "\n",
        "(x_train, y_train), (x_test, y_test) = tf.keras.datasets.cifar10.load_data()\n",
        "\n",
        "print(\"x_train: {} y_train: {} x_test: {} y_test: {}\".format(\n",
        "        x_train.shape, y_train.shape, x_test.shape, y_test.shape\n",
        "    )\n",
        ")\n",
        "\n",
        "print(\"x_train --> max: {} mean: {} min: {}\".format(\n",
        "        np.max(x_train), np.mean(x_train), np.min(x_train)\n",
        "    )\n",
        ")\n",
        "\n",
        "print(\"y_train --> unique_values: {}\".format(\n",
        "        np.unique(y_train)\n",
        "    )\n",
        ")"
      ],
      "execution_count": 3,
      "outputs": [
        {
          "output_type": "stream",
          "name": "stdout",
          "text": [
            "Downloading data from https://www.cs.toronto.edu/~kriz/cifar-10-python.tar.gz\n",
            "170500096/170498071 [==============================] - 11s 0us/step\n",
            "170508288/170498071 [==============================] - 11s 0us/step\n",
            "x_train: (50000, 32, 32, 3) y_train: (50000, 1) x_test: (10000, 32, 32, 3) y_test: (10000, 1)\n",
            "x_train --> max: 255 mean: 120.70756512369792 min: 0\n",
            "y_train --> unique_values: [0 1 2 3 4 5 6 7 8 9]\n"
          ]
        }
      ]
    },
    {
      "cell_type": "code",
      "metadata": {
        "colab": {
          "base_uri": "https://localhost:8080/"
        },
        "id": "SxQAM0431yue",
        "cellView": "form",
        "outputId": "40726d36-7a3b-4f81-b646-975282efa3ec"
      },
      "source": [
        "#@title Preprocessing { form-width: \"20%\" }\n",
        "\n",
        "x_train_preprocessed = tf.keras.applications.densenet.preprocess_input(x_train)\n",
        "x_test_preprocessed = tf.keras.applications.densenet.preprocess_input(x_test)\n",
        "\n",
        "print(\"x_train --> max: {} mean: {} min: {}\".format(\n",
        "        np.max(x_train_preprocessed),\n",
        "        np.mean(x_train_preprocessed),\n",
        "        np.min(x_train_preprocessed)\n",
        "    )\n",
        ")"
      ],
      "execution_count": 4,
      "outputs": [
        {
          "output_type": "stream",
          "name": "stdout",
          "text": [
            "x_train --> max: 2.640000104904175 mean: 0.10828698426485062 min: -2.1179039478302\n"
          ]
        }
      ]
    },
    {
      "cell_type": "code",
      "metadata": {
        "colab": {
          "base_uri": "https://localhost:8080/"
        },
        "id": "NMnKolyQBuZt",
        "cellView": "form",
        "outputId": "cbce763b-f3aa-487b-c191-96ff5847de9b"
      },
      "source": [
        "#@title One class separation { form-width: \"20%\" }\n",
        "\n",
        "selected_class =  9#@param {type:\"integer\"}\n",
        "\n",
        "y_train_one_class = y_train.copy()\n",
        "y_train_one_class[y_train == selected_class] = 0\n",
        "y_train_one_class[y_train != selected_class] = 1\n",
        "\n",
        "y_test_one_class = y_test.copy()\n",
        "y_test_one_class[y_test == selected_class] = 0\n",
        "y_test_one_class[y_test != selected_class] = 1\n",
        "\n",
        "print(np.unique(y_train_one_class))\n",
        "print(np.unique(y_test_one_class))"
      ],
      "execution_count": 54,
      "outputs": [
        {
          "output_type": "stream",
          "name": "stdout",
          "text": [
            "[0 1]\n",
            "[0 1]\n"
          ]
        }
      ]
    },
    {
      "cell_type": "code",
      "metadata": {
        "colab": {
          "base_uri": "https://localhost:8080/"
        },
        "id": "Jqc0wh0926yX",
        "cellView": "form",
        "outputId": "cf4e13aa-77ce-4b93-91d1-ae341d7dfb10"
      },
      "source": [
        "#@title Build model (transfer learning) { form-width: \"20%\" }\n",
        "\n",
        "focal_loss = False #@param {type:\"boolean\"}\n",
        "\n",
        "\n",
        "model = tf.keras.Sequential()\n",
        "\n",
        "model.add(\n",
        "    tf.keras.applications.DenseNet121(\n",
        "        include_top=False,\n",
        "        weights=\"imagenet\",\n",
        "        input_shape=(32, 32, 3),\n",
        "    )\n",
        ")\n",
        "\n",
        "# for layer in model.layers:\n",
        "#     layer.trainable = False\n",
        "\n",
        "model.add(\n",
        "    tf.keras.layers.Flatten()\n",
        ")\n",
        "\n",
        "model.add(\n",
        "    tf.keras.layers.Dense(512, activation=\"relu\")\n",
        ")\n",
        "\n",
        "model.add(\n",
        "    tf.keras.layers.Dense(128, activation=\"relu\")\n",
        ")\n",
        "\n",
        "model.add(\n",
        "    tf.keras.layers.Dense(2, activation=\"softmax\")\n",
        ")\n",
        "\n",
        "loss_func = \"sparse_categorical_crossentropy\"\n",
        "if focal_loss:\n",
        "    loss_func = SparseCategoricalFocalLoss(gamma=2)\n",
        "\n",
        "\n",
        "model.compile(\n",
        "    loss=loss_func,\n",
        "    optimizer=\"adam\",\n",
        "    metrics=[\"accuracy\"]\n",
        ")\n",
        "\n",
        "model.summary()"
      ],
      "execution_count": 21,
      "outputs": [
        {
          "output_type": "stream",
          "name": "stdout",
          "text": [
            "Model: \"sequential_5\"\n",
            "_________________________________________________________________\n",
            "Layer (type)                 Output Shape              Param #   \n",
            "=================================================================\n",
            "densenet121 (Functional)     (None, 1, 1, 1024)        7037504   \n",
            "_________________________________________________________________\n",
            "flatten_5 (Flatten)          (None, 1024)              0         \n",
            "_________________________________________________________________\n",
            "dense_5 (Dense)              (None, 512)               524800    \n",
            "_________________________________________________________________\n",
            "dense_6 (Dense)              (None, 128)               65664     \n",
            "_________________________________________________________________\n",
            "dense_7 (Dense)              (None, 2)                 258       \n",
            "=================================================================\n",
            "Total params: 7,628,226\n",
            "Trainable params: 7,544,578\n",
            "Non-trainable params: 83,648\n",
            "_________________________________________________________________\n"
          ]
        }
      ]
    },
    {
      "cell_type": "code",
      "metadata": {
        "colab": {
          "base_uri": "https://localhost:8080/"
        },
        "id": "EeFA6IINjiE2",
        "cellView": "form",
        "outputId": "061593f0-0eac-4c6b-9440-9eb6a2823b70"
      },
      "source": [
        "#@title Build model (from scratch) { form-width: \"20%\" }\n",
        "\n",
        "focal_loss = True #@param {type:\"boolean\"}\n",
        "first_layer_filters = 32 #@param {type:\"integer\"}\n",
        "second_layer_filters = 64#@param {type:\"integer\"}\n",
        "third_layer_filters = 128#@param {type:\"integer\"}\n",
        "\n",
        "\n",
        "model = tf.keras.Sequential()\n",
        "\n",
        "model.add(\n",
        "    tf.keras.layers.InputLayer((32, 32, 3))\n",
        ")\n",
        "\n",
        "model.add(\n",
        "    tf.keras.layers.Conv2D(first_layer_filters, (3, 3), activation=\"relu\")\n",
        ")\n",
        "model.add(\n",
        "    tf.keras.layers.Conv2D(first_layer_filters, (3, 3), activation=\"relu\")\n",
        ")\n",
        "model.add(\n",
        "    tf.keras.layers.MaxPool2D((2, 2))\n",
        ")\n",
        "model.add(\n",
        "    tf.keras.layers.BatchNormalization()\n",
        ")\n",
        "\n",
        "model.add(\n",
        "    tf.keras.layers.Conv2D(second_layer_filters, (3, 3), activation=\"relu\")\n",
        ")\n",
        "model.add(\n",
        "    tf.keras.layers.Conv2D(second_layer_filters, (3, 3), activation=\"relu\")\n",
        ")\n",
        "model.add(\n",
        "    tf.keras.layers.MaxPool2D((2, 2))\n",
        ")\n",
        "model.add(\n",
        "    tf.keras.layers.BatchNormalization()\n",
        ")\n",
        "\n",
        "model.add(\n",
        "    tf.keras.layers.Conv2D(third_layer_filters, (3, 3), activation=\"relu\")\n",
        ")\n",
        "model.add(\n",
        "    tf.keras.layers.Conv2D(third_layer_filters, (3, 3), activation=\"relu\")\n",
        ")\n",
        "\n",
        "model.add(\n",
        "    tf.keras.layers.Flatten()\n",
        ")\n",
        "model.add(\n",
        "    tf.keras.layers.BatchNormalization()\n",
        ")\n",
        "\n",
        "model.add(\n",
        "    tf.keras.layers.Dense(2, activation=\"softmax\")\n",
        ")\n",
        "\n",
        "loss_func = \"sparse_categorical_crossentropy\"\n",
        "if focal_loss:\n",
        "    loss_func = SparseCategoricalFocalLoss(gamma=2)\n",
        "\n",
        "model.compile(\n",
        "    loss=loss_func,\n",
        "    optimizer=\"adam\",\n",
        "    metrics=[\"accuracy\"]\n",
        ")\n",
        "\n",
        "model.summary()"
      ],
      "execution_count": 55,
      "outputs": [
        {
          "output_type": "stream",
          "name": "stdout",
          "text": [
            "Model: \"sequential_7\"\n",
            "_________________________________________________________________\n",
            "Layer (type)                 Output Shape              Param #   \n",
            "=================================================================\n",
            "conv2d_42 (Conv2D)           (None, 30, 30, 32)        896       \n",
            "_________________________________________________________________\n",
            "conv2d_43 (Conv2D)           (None, 28, 28, 32)        9248      \n",
            "_________________________________________________________________\n",
            "max_pooling2d_14 (MaxPooling (None, 14, 14, 32)        0         \n",
            "_________________________________________________________________\n",
            "batch_normalization_21 (Batc (None, 14, 14, 32)        128       \n",
            "_________________________________________________________________\n",
            "conv2d_44 (Conv2D)           (None, 12, 12, 64)        18496     \n",
            "_________________________________________________________________\n",
            "conv2d_45 (Conv2D)           (None, 10, 10, 64)        36928     \n",
            "_________________________________________________________________\n",
            "max_pooling2d_15 (MaxPooling (None, 5, 5, 64)          0         \n",
            "_________________________________________________________________\n",
            "batch_normalization_22 (Batc (None, 5, 5, 64)          256       \n",
            "_________________________________________________________________\n",
            "conv2d_46 (Conv2D)           (None, 3, 3, 128)         73856     \n",
            "_________________________________________________________________\n",
            "conv2d_47 (Conv2D)           (None, 1, 1, 128)         147584    \n",
            "_________________________________________________________________\n",
            "flatten_7 (Flatten)          (None, 128)               0         \n",
            "_________________________________________________________________\n",
            "batch_normalization_23 (Batc (None, 128)               512       \n",
            "_________________________________________________________________\n",
            "dense_7 (Dense)              (None, 2)                 258       \n",
            "=================================================================\n",
            "Total params: 288,162\n",
            "Trainable params: 287,714\n",
            "Non-trainable params: 448\n",
            "_________________________________________________________________\n"
          ]
        }
      ]
    },
    {
      "cell_type": "code",
      "metadata": {
        "id": "FzDHU_L73sny",
        "cellView": "form"
      },
      "source": [
        "#@title Train { form-width: \"20%\" }\n",
        "class_weight = False #@param {type:\"boolean\"}\n",
        "save_on_each_epoch = True #@param {type:\"boolean\"}\n",
        "epochs =  50#@param {type:\"integer\"}\n",
        "batch_size = 32 #@param {type:\"integer\"}\n",
        "\n",
        "weights = None\n",
        "if class_weight:\n",
        "    weights = {0: 1., 1: .1}\n",
        "\n",
        "    import sklearn\n",
        "    weights = sklearn.utils.class_weight.compute_class_weight(\n",
        "        \"balanced\",\n",
        "        np.unique(y_train_one_class),\n",
        "        y_train_one_class.ravel()\n",
        "    )\n",
        "    weights = {0: weights[0], 1: weights[1]}\n",
        "    print(weights)\n",
        "    \n",
        "\n",
        "class CustomCallback(tf.keras.callbacks.Callback):\n",
        "    def on_epoch_end(self, epoch, logs=None):\n",
        "        print(\"epoch\", epoch)\n",
        "        y_pred = np.argmax(model.predict(x_test_preprocessed), axis=1)\n",
        "        print(classification_report(y_test_one_class, y_pred))\n",
        "\n",
        "        if save_on_each_epoch:\n",
        "            self.model.save(\"model_epoch_{}.hd5\".format(epoch))\n",
        "\n",
        "\n",
        "model.fit(\n",
        "    x_train_preprocessed, y_train_one_class,\n",
        "    validation_split=.1, batch_size=batch_size, epochs=epochs,\n",
        "    callbacks=[CustomCallback()], class_weight=weights\n",
        ")"
      ],
      "execution_count": null,
      "outputs": []
    },
    {
      "cell_type": "code",
      "metadata": {
        "colab": {
          "base_uri": "https://localhost:8080/"
        },
        "id": "KPwSZ3f6Enfc",
        "cellView": "form",
        "outputId": "fa24b530-399b-4010-9552-1558a0e94495"
      },
      "source": [
        "#@title Evaluation { form-width: \"20%\" }\n",
        "\n",
        "load = True #@param {type:\"boolean\"}\n",
        "model_epoch =  10#@param {type:\"integer\"}\n",
        "\n",
        "if load:\n",
        "    model = tf.keras.models.load_model(\n",
        "        \"model_epoch_{}.hd5\".format(model_epoch)\n",
        "    )\n",
        "\n",
        "y_pred = np.argmax(model.predict(x_test_preprocessed), axis=1)\n",
        "\n",
        "\n",
        "print(\"Classification report: \\n{}\".format(\n",
        "        classification_report(y_test_one_class, y_pred)\n",
        "    )\n",
        ")\n",
        "\n",
        "print(\"Confusion matrix: \\n{}\".format(\n",
        "        confusion_matrix(y_test_one_class, y_pred)\n",
        "    )\n",
        ")"
      ],
      "execution_count": 50,
      "outputs": [
        {
          "output_type": "stream",
          "name": "stdout",
          "text": [
            "Classification report: \n",
            "              precision    recall  f1-score   support\n",
            "\n",
            "           0       0.90      0.81      0.86      1000\n",
            "           1       0.98      0.99      0.98      9000\n",
            "\n",
            "    accuracy                           0.97     10000\n",
            "   macro avg       0.94      0.90      0.92     10000\n",
            "weighted avg       0.97      0.97      0.97     10000\n",
            "\n",
            "Confusion matrix: \n",
            "[[ 815  185]\n",
            " [  88 8912]]\n"
          ]
        }
      ]
    },
    {
      "cell_type": "code",
      "metadata": {
        "colab": {
          "base_uri": "https://localhost:8080/"
        },
        "id": "7yuhG7f8yE2k",
        "cellView": "form",
        "outputId": "986fd994-5edf-42d0-9f76-1b18ca7b46ae"
      },
      "source": [
        "#@title Feature extraction { form-width: \"20%\" }\n",
        "\n",
        "topless_model = tf.keras.Model(\n",
        "    inputs=model.input,\n",
        "    outputs=model.get_layer(model.layers[-2].name).output\n",
        ")\n",
        "\n",
        "features = topless_model.predict(x_test_preprocessed)\n",
        "\n",
        "print(\"Features shape: {}\".format(features.shape))"
      ],
      "execution_count": 51,
      "outputs": [
        {
          "output_type": "stream",
          "name": "stdout",
          "text": [
            "Features shape: (10000, 128)\n"
          ]
        }
      ]
    },
    {
      "cell_type": "code",
      "metadata": {
        "colab": {
          "base_uri": "https://localhost:8080/"
        },
        "id": "ig0fzlVzzio7",
        "cellView": "form",
        "outputId": "2257c738-8aee-47af-b51b-9519886a25f0"
      },
      "source": [
        "#@title Dimensionality reduction using TSN-e { form-width: \"20%\" }\n",
        "\n",
        "from sklearn.manifold import TSNE\n",
        "\n",
        "features_2d= TSNE(n_components=2).fit_transform(features)\n",
        "\n",
        "print(\"New features shape: {}\".format(features_2d.shape))"
      ],
      "execution_count": 52,
      "outputs": [
        {
          "output_type": "stream",
          "name": "stdout",
          "text": [
            "New features shape: (10000, 2)\n"
          ]
        }
      ]
    },
    {
      "cell_type": "code",
      "metadata": {
        "colab": {
          "base_uri": "https://localhost:8080/",
          "height": 295
        },
        "id": "j7gQe1_u0GyV",
        "cellView": "form",
        "outputId": "2e3db0bb-0ea7-47a9-a3ca-d6e6410ba0a2"
      },
      "source": [
        "#@title Feature visualization { form-width: \"20%\" }\n",
        "\n",
        "import matplotlib.pyplot as plt\n",
        "\n",
        "fig, ax = plt.subplots()\n",
        "ax.scatter(\n",
        "    features_2d[(y_test_one_class==1).ravel(), 0],\n",
        "    features_2d[(y_test_one_class==1).ravel(), 1],\n",
        "    label=\"Other classes\"\n",
        ")\n",
        "ax.scatter(\n",
        "    features_2d[(y_test_one_class==0).ravel(), 0],\n",
        "    features_2d[(y_test_one_class==0).ravel(), 1],\n",
        "    label=\"Selected class\"\n",
        ")\n",
        "fig.legend()\n",
        "fig.show()\n",
        "\n",
        "fig.savefig('plot.png', format='png', dpi=1200)"
      ],
      "execution_count": 53,
      "outputs": [
        {
          "output_type": "display_data",
          "data": {
            "image/png": "[encoded data removed]",
            "text/plain": [
              "<Figure size 432x288 with 1 Axes>"
            ]
          },
          "metadata": {
            "needs_background": "light"
          }
        }
      ]
    }
  ]
}