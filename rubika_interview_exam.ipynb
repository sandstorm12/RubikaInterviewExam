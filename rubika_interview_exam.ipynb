{
  "nbformat": 4,
  "nbformat_minor": 0,
  "metadata": {
    "colab": {
      "name": "rubika_interview_exam.ipynb",
      "provenance": [],
      "collapsed_sections": [],
      "include_colab_link": true
    },
    "kernelspec": {
      "name": "python3",
      "display_name": "Python 3"
    },
    "language_info": {
      "name": "python"
    },
    "accelerator": "GPU"
  },
  "cells": [
    {
      "cell_type": "markdown",
      "metadata": {
        "id": "view-in-github",
        "colab_type": "text"
      },
      "source": [
        "<a href=\"https://colab.research.google.com/github/sandstorm12/RubikaInterviewExam/blob/dev/rubika_interview_exam.ipynb\" target=\"_parent\"><img src=\"https://colab.research.google.com/assets/colab-badge.svg\" alt=\"Open In Colab\"/></a>"
      ]
    },
    {
      "cell_type": "markdown",
      "metadata": {
        "id": "3KOdanAeJWOq"
      },
      "source": [
        "# Issues and future work\n",
        "\n",
        "1. Try oversampling using augmentation\n",
        "2. Try not to use Keras Applications pre-processing for the custom model :)"
      ]
    },
    {
      "cell_type": "code",
      "metadata": {
        "id": "w66d5_H4FghN",
        "cellView": "form"
      },
      "source": [
        "#@title System check { form-width: \"20%\" }\n",
        "\n",
        "!nvidia-smi"
      ],
      "execution_count": null,
      "outputs": []
    },
    {
      "cell_type": "code",
      "metadata": {
        "id": "8Jr6vXRgKQ8S",
        "cellView": "form"
      },
      "source": [
        "#@title Installation { form-width: \"20%\" }\n",
        "\n",
        "!pip3 install focal-loss"
      ],
      "execution_count": null,
      "outputs": []
    },
    {
      "cell_type": "code",
      "metadata": {
        "id": "lQB0dfC0y33Q",
        "cellView": "form"
      },
      "source": [
        "#@title Imports { form-width: \"20%\"}\n",
        "\n",
        "import sklearn\n",
        "import numpy as np\n",
        "import tensorflow as tf\n",
        "import matplotlib.pyplot as plt\n",
        "\n",
        "from sklearn.manifold import TSNE\n",
        "from sklearn.metrics import confusion_matrix\n",
        "from sklearn.metrics import classification_report\n",
        "from focal_loss import SparseCategoricalFocalLoss"
      ],
      "execution_count": null,
      "outputs": []
    },
    {
      "cell_type": "code",
      "metadata": {
        "id": "iGsPuYl3zvTz",
        "cellView": "form"
      },
      "source": [
        "#@title Load dataset { form-width: \"20%\" }\n",
        "\n",
        "(x_train, y_train), (x_test, y_test) = tf.keras.datasets.cifar10.load_data()\n",
        "\n",
        "print(\"x_train: {} y_train: {} x_test: {} y_test: {}\".format(\n",
        "        x_train.shape, y_train.shape, x_test.shape, y_test.shape\n",
        "    )\n",
        ")\n",
        "\n",
        "print(\"x_train --> max: {} mean: {} min: {}\".format(\n",
        "        np.max(x_train), np.mean(x_train), np.min(x_train)\n",
        "    )\n",
        ")\n",
        "\n",
        "print(\"y_train --> unique_values: {}\".format(\n",
        "        np.unique(y_train)\n",
        "    )\n",
        ")"
      ],
      "execution_count": null,
      "outputs": []
    },
    {
      "cell_type": "code",
      "metadata": {
        "id": "SxQAM0431yue",
        "cellView": "form"
      },
      "source": [
        "#@title Preprocessing { form-width: \"20%\" }\n",
        "\n",
        "x_train_preprocessed = tf.keras.applications.densenet.preprocess_input(x_train)\n",
        "x_test_preprocessed = tf.keras.applications.densenet.preprocess_input(x_test)\n",
        "\n",
        "print(\"x_train --> max: {} mean: {} min: {}\".format(\n",
        "        np.max(x_train_preprocessed),\n",
        "        np.mean(x_train_preprocessed),\n",
        "        np.min(x_train_preprocessed)\n",
        "    )\n",
        ")"
      ],
      "execution_count": null,
      "outputs": []
    },
    {
      "cell_type": "code",
      "metadata": {
        "id": "NMnKolyQBuZt",
        "cellView": "form"
      },
      "source": [
        "#@title One class separation { form-width: \"20%\" }\n",
        "\n",
        "selected_class =  8#@param {type:\"integer\"}\n",
        "\n",
        "y_train_one_class = y_train.copy()\n",
        "y_train_one_class[y_train == selected_class] = 0\n",
        "y_train_one_class[y_train != selected_class] = 1\n",
        "\n",
        "y_test_one_class = y_test.copy()\n",
        "y_test_one_class[y_test == selected_class] = 0\n",
        "y_test_one_class[y_test != selected_class] = 1\n",
        "\n",
        "print(np.unique(y_train_one_class))\n",
        "print(np.unique(y_test_one_class))"
      ],
      "execution_count": null,
      "outputs": []
    },
    {
      "cell_type": "code",
      "metadata": {
        "id": "Jqc0wh0926yX",
        "cellView": "form"
      },
      "source": [
        "#@title Build model (transfer learning) { form-width: \"20%\" }\n",
        "\n",
        "focal_loss = False #@param {type:\"boolean\"}\n",
        "\n",
        "\n",
        "model = tf.keras.Sequential()\n",
        "\n",
        "model.add(\n",
        "    tf.keras.applications.DenseNet121(\n",
        "        include_top=False,\n",
        "        weights=\"imagenet\",\n",
        "        input_shape=(32, 32, 3),\n",
        "    )\n",
        ")\n",
        "\n",
        "for layer in model.layers:\n",
        "    layer.trainable = False\n",
        "\n",
        "model.add(\n",
        "    tf.keras.layers.Flatten()\n",
        ")\n",
        "\n",
        "model.add(\n",
        "    tf.keras.layers.Dense(512, activation=\"relu\")\n",
        ")\n",
        "\n",
        "model.add(\n",
        "    tf.keras.layers.Dense(128, activation=\"relu\")\n",
        ")\n",
        "\n",
        "model.add(\n",
        "    tf.keras.layers.Dense(2, activation=\"softmax\")\n",
        ")\n",
        "\n",
        "loss_func = \"sparse_categorical_crossentropy\"\n",
        "if focal_loss:\n",
        "    loss_func = SparseCategoricalFocalLoss(gamma=2)\n",
        "\n",
        "\n",
        "model.compile(\n",
        "    loss=loss_func,\n",
        "    optimizer=\"adam\",\n",
        "    metrics=[\"accuracy\"]\n",
        ")\n",
        "\n",
        "model.summary()"
      ],
      "execution_count": null,
      "outputs": []
    },
    {
      "cell_type": "code",
      "metadata": {
        "id": "EeFA6IINjiE2",
        "cellView": "form"
      },
      "source": [
        "#@title Build model (from scratch) { form-width: \"20%\" }\n",
        "\n",
        "focal_loss = True #@param {type:\"boolean\"}\n",
        "first_layer_filters = 32 #@param {type:\"integer\"}\n",
        "second_layer_filters = 64 #@param {type:\"integer\"}\n",
        "third_layer_filters = 128 #@param {type:\"integer\"}\n",
        "\n",
        "\n",
        "model = tf.keras.Sequential()\n",
        "\n",
        "model.add(\n",
        "    tf.keras.layers.InputLayer((32, 32, 3))\n",
        ")\n",
        "\n",
        "model.add(\n",
        "    tf.keras.layers.Conv2D(first_layer_filters, (3, 3), activation=\"relu\")\n",
        ")\n",
        "model.add(\n",
        "    tf.keras.layers.Conv2D(first_layer_filters, (3, 3), activation=\"relu\")\n",
        ")\n",
        "model.add(\n",
        "    tf.keras.layers.MaxPool2D((2, 2))\n",
        ")\n",
        "model.add(\n",
        "    tf.keras.layers.BatchNormalization()\n",
        ")\n",
        "\n",
        "model.add(\n",
        "    tf.keras.layers.Conv2D(second_layer_filters, (3, 3), activation=\"relu\")\n",
        ")\n",
        "model.add(\n",
        "    tf.keras.layers.Conv2D(second_layer_filters, (3, 3), activation=\"relu\")\n",
        ")\n",
        "model.add(\n",
        "    tf.keras.layers.MaxPool2D((2, 2))\n",
        ")\n",
        "model.add(\n",
        "    tf.keras.layers.BatchNormalization()\n",
        ")\n",
        "\n",
        "model.add(\n",
        "    tf.keras.layers.Conv2D(third_layer_filters, (3, 3), activation=\"relu\")\n",
        ")\n",
        "model.add(\n",
        "    tf.keras.layers.Conv2D(third_layer_filters, (3, 3), activation=\"relu\")\n",
        ")\n",
        "\n",
        "model.add(\n",
        "    tf.keras.layers.Flatten()\n",
        ")\n",
        "model.add(\n",
        "    tf.keras.layers.BatchNormalization()\n",
        ")\n",
        "\n",
        "model.add(\n",
        "    tf.keras.layers.Dense(2, activation=\"softmax\")\n",
        ")\n",
        "\n",
        "loss_func = \"sparse_categorical_crossentropy\"\n",
        "if focal_loss:\n",
        "    loss_func = SparseCategoricalFocalLoss(gamma=2)\n",
        "\n",
        "model.compile(\n",
        "    loss=loss_func,\n",
        "    optimizer=\"adam\",\n",
        "    metrics=[\"accuracy\"]\n",
        ")\n",
        "\n",
        "model.summary()"
      ],
      "execution_count": null,
      "outputs": []
    },
    {
      "cell_type": "code",
      "metadata": {
        "id": "FzDHU_L73sny",
        "cellView": "form"
      },
      "source": [
        "#@title Train { form-width: \"20%\" }\n",
        "class_weight = False #@param {type:\"boolean\"}\n",
        "save_on_each_epoch = True #@param {type:\"boolean\"}\n",
        "epochs =  50 #@param {type:\"integer\"}\n",
        "batch_size = 32 #@param {type:\"integer\"}\n",
        "\n",
        "weights = None\n",
        "if class_weight:\n",
        "    weights = sklearn.utils.class_weight.compute_class_weight(\n",
        "        \"balanced\",\n",
        "        np.unique(y_train_one_class),\n",
        "        y_train_one_class.ravel()\n",
        "    )\n",
        "    weights = {0: weights[0], 1: weights[1]}\n",
        "    print(\"Class weights: {}\".format(weights))\n",
        "    \n",
        "\n",
        "class CustomCallback(tf.keras.callbacks.Callback):\n",
        "    def on_epoch_end(self, epoch, logs=None):\n",
        "        print(\"epoch\", epoch)\n",
        "        y_pred = np.argmax(model.predict(x_test_preprocessed), axis=1)\n",
        "        print(classification_report(y_test_one_class, y_pred))\n",
        "\n",
        "        if save_on_each_epoch:\n",
        "            self.model.save(\"model_epoch_{}.hd5\".format(epoch))\n",
        "\n",
        "\n",
        "model.fit(\n",
        "    x_train_preprocessed, y_train_one_class,\n",
        "    validation_split=.1, batch_size=batch_size, epochs=epochs,\n",
        "    callbacks=[CustomCallback()], class_weight=weights\n",
        ")"
      ],
      "execution_count": null,
      "outputs": []
    },
    {
      "cell_type": "code",
      "metadata": {
        "id": "KPwSZ3f6Enfc",
        "cellView": "form"
      },
      "source": [
        "#@title Evaluation { form-width: \"20%\" }\n",
        "\n",
        "load = True #@param {type:\"boolean\"}\n",
        "model_epoch =  17 #@param {type:\"integer\"}\n",
        "\n",
        "if load:\n",
        "    model = tf.keras.models.load_model(\n",
        "        \"model_epoch_{}.hd5\".format(model_epoch)\n",
        "    )\n",
        "\n",
        "y_pred = np.argmax(model.predict(x_test_preprocessed), axis=1)\n",
        "\n",
        "\n",
        "print(\"Classification report: \\n{}\".format(\n",
        "        classification_report(y_test_one_class, y_pred)\n",
        "    )\n",
        ")\n",
        "\n",
        "print(\"Confusion matrix: \\n{}\".format(\n",
        "        confusion_matrix(y_test_one_class, y_pred)\n",
        "    )\n",
        ")"
      ],
      "execution_count": null,
      "outputs": []
    },
    {
      "cell_type": "code",
      "metadata": {
        "id": "7yuhG7f8yE2k",
        "cellView": "form"
      },
      "source": [
        "#@title Feature extraction { form-width: \"20%\" }\n",
        "\n",
        "topless_model = tf.keras.Model(\n",
        "    inputs=model.input,\n",
        "    outputs=model.get_layer(model.layers[-2].name).output\n",
        ")\n",
        "\n",
        "features = topless_model.predict(x_test_preprocessed)\n",
        "\n",
        "print(\"Features shape: {}\".format(features.shape))"
      ],
      "execution_count": null,
      "outputs": []
    },
    {
      "cell_type": "code",
      "metadata": {
        "id": "ig0fzlVzzio7",
        "cellView": "form"
      },
      "source": [
        "#@title Dimensionality reduction using TSN-e { form-width: \"20%\" }\n",
        "\n",
        "features_2d= TSNE(n_components=2).fit_transform(features)\n",
        "\n",
        "print(\"New features shape: {}\".format(features_2d.shape))"
      ],
      "execution_count": null,
      "outputs": []
    },
    {
      "cell_type": "code",
      "metadata": {
        "id": "j7gQe1_u0GyV",
        "cellView": "form"
      },
      "source": [
        "#@title Feature visualization { form-width: \"20%\" }\n",
        "\n",
        "fig, ax = plt.subplots()\n",
        "ax.scatter(\n",
        "    features_2d[(y_test_one_class==1).ravel(), 0],\n",
        "    features_2d[(y_test_one_class==1).ravel(), 1],\n",
        "    label=\"Other classes\"\n",
        ")\n",
        "ax.scatter(\n",
        "    features_2d[(y_test_one_class==0).ravel(), 0],\n",
        "    features_2d[(y_test_one_class==0).ravel(), 1],\n",
        "    label=\"Selected class\"\n",
        ")\n",
        "fig.legend()\n",
        "fig.show()\n",
        "\n",
        "fig.savefig('plot.png', format='png', dpi=1200)"
      ],
      "execution_count": null,
      "outputs": []
    }
  ]
}